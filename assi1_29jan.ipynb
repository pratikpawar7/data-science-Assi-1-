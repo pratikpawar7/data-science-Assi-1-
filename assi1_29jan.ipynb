{
 "cells": [
  {
   "cell_type": "markdown",
   "id": "bbcc3fa3-7166-4745-ba83-3cea5bc74d2a",
   "metadata": {},
   "source": [
    "Assiment 1 : 29 jan"
   ]
  },
  {
   "cell_type": "code",
   "execution_count": 6,
   "id": "aba18718-7fdd-4909-9c2f-551fb82d7bd4",
   "metadata": {},
   "outputs": [],
   "source": [
    "1 Ans:: Guido van Rossum develop a pyhton programming language\n"
   ]
  },
  {
   "cell_type": "code",
   "execution_count": null,
   "id": "90795263-d68e-46e6-86d6-64be3a594ded",
   "metadata": {},
   "outputs": [],
   "source": [
    "2 Ans:: python suppprted Object oriented programming and structued programming concept "
   ]
  },
  {
   "cell_type": "code",
   "execution_count": null,
   "id": "aac0b199-e7a6-4b44-a007-75650602f3ef",
   "metadata": {},
   "outputs": [],
   "source": [
    "3 Ans:: yes,python is case sensitive language when dealing with identifires"
   ]
  },
  {
   "cell_type": "code",
   "execution_count": null,
   "id": "6c825d5c-4164-4101-b89b-cdf3cc5ef5c3",
   "metadata": {},
   "outputs": [],
   "source": [
    "4 Ans:: .py is extention of python file "
   ]
  },
  {
   "cell_type": "code",
   "execution_count": null,
   "id": "bef7f3fc-cd3b-4993-a342-4887fc400744",
   "metadata": {},
   "outputs": [],
   "source": [
    "5 Ans:: python is interpreted language "
   ]
  },
  {
   "cell_type": "code",
   "execution_count": 10,
   "id": "9a6757fb-b769-4100-8645-d861575288ca",
   "metadata": {},
   "outputs": [
    {
     "name": "stdout",
     "output_type": "stream",
     "text": [
      "you are elligible for driving licence\n"
     ]
    }
   ],
   "source": [
    "#6 Ans::  we use if else statement\n",
    "age = 18 \n",
    "if age>=18:\n",
    "     print(\"you are elligible for driving licence\")\n",
    "else :\n",
    "    print(\"you are not elligible for driving licence\")"
   ]
  },
  {
   "cell_type": "code",
   "execution_count": 11,
   "id": "f8ec8496-f67e-429a-94a8-b1a2489b030c",
   "metadata": {},
   "outputs": [],
   "source": [
    "#Ans 7 :: \"#\" is used to single line comment in python\n"
   ]
  },
  {
   "cell_type": "code",
   "execution_count": 14,
   "id": "686ae1e2-8488-4c78-8aef-4a7957dcdd5f",
   "metadata": {},
   "outputs": [
    {
     "name": "stdout",
     "output_type": "stream",
     "text": [
      "Current Python Version- 3.10.8\n"
     ]
    }
   ],
   "source": [
    "# Ans 8 ::\n",
    "from platform import python_version\n",
    "\n",
    "print(\"Current Python Version-\", python_version())\n",
    "# python_version function is used for find current version of python "
   ]
  },
  {
   "cell_type": "code",
   "execution_count": 16,
   "id": "cf5b0ebf-7a15-4883-a57d-1b77bcb235dc",
   "metadata": {},
   "outputs": [],
   "source": [
    "Ans 9:: \n",
    "    python supports to create an anonymous function at a runtime using lambda function \n",
    "    "
   ]
  },
  {
   "cell_type": "code",
   "execution_count": null,
   "id": "60a5eaea-6e40-4644-8efe-f1c424e97fa1",
   "metadata": {},
   "outputs": [],
   "source": [
    "Ans 10::\n",
    "    pip stand for prefered installer program \n",
    "    "
   ]
  },
  {
   "cell_type": "code",
   "execution_count": null,
   "id": "f06334f6-5b96-4a12-b24e-7577f9b5558e",
   "metadata": {},
   "outputs": [],
   "source": [
    "Ans 11::\n",
    "print() function.\n",
    "type() function.\n",
    "input() function.\n",
    "dir() function.\n",
    "sorted() function.\n",
    "max() function.\n",
    "min() function \n",
    "\n",
    "# are bulid in function in python \n",
    "    \n",
    "    "
   ]
  },
  {
   "cell_type": "code",
   "execution_count": null,
   "id": "d815aaa3-d5ed-4f8f-9f86-f082bab74219",
   "metadata": {},
   "outputs": [],
   "source": [
    "Ans 12 ::\n",
    "    79 character is maximum length of identifiers in python "
   ]
  },
  {
   "cell_type": "code",
   "execution_count": null,
   "id": "0a64cfc7-d144-472a-8d84-de3eebd08ab8",
   "metadata": {},
   "outputs": [],
   "source": [
    "Ans 13 ::\n",
    "    Python is commonly used for developing websites and software, \n",
    "    task automation, data analysis, and data visualization"
   ]
  },
  {
   "cell_type": "code",
   "execution_count": null,
   "id": "3a6bcd8f-b101-4d8b-a548-c3c0d9826ad2",
   "metadata": {},
   "outputs": [],
   "source": [
    "Ans 14 ::\n",
    "    python private heap space is used for memory management in python "
   ]
  },
  {
   "cell_type": "code",
   "execution_count": null,
   "id": "130f9e47-d5ee-49e6-ba91-2760aef064b6",
   "metadata": {},
   "outputs": [],
   "source": [
    "Ans 15 ::\n",
    "    downlode lete\n",
    "    1.Right-clicking This PC and going to Properties.\n",
    "\n",
    "    2.Clicking on the Advanced system settings in the menu on the left.\n",
    "\n",
    "    3 .Clicking on the Environment Variables button o​n the bottom right.\n",
    "\n",
    "    4.In the System variables section, selecting the Path variable and clicking on Edit. \n",
    "      The next screen will show all the directories that are currently a part of the PATH variable.\n",
    "\n",
    "    5.Clicking on New and entering Python’s install directory. "
   ]
  }
 ],
 "metadata": {
  "kernelspec": {
   "display_name": "Python 3 (ipykernel)",
   "language": "python",
   "name": "python3"
  },
  "language_info": {
   "codemirror_mode": {
    "name": "ipython",
    "version": 3
   },
   "file_extension": ".py",
   "mimetype": "text/x-python",
   "name": "python",
   "nbconvert_exporter": "python",
   "pygments_lexer": "ipython3",
   "version": "3.10.8"
  }
 },
 "nbformat": 4,
 "nbformat_minor": 5
}
